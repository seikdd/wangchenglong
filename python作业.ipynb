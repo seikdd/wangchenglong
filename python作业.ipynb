{
 "cells": [
  {
   "cell_type": "markdown",
   "metadata": {},
   "source": [
    "# 问题一"
   ]
  },
  {
   "cell_type": "markdown",
   "metadata": {},
   "source": [
    "（1）解释型：含义，特点，优缺点。 含义：程序不需要编译，在运行时才翻译成机器语言。源代码不是直接翻译成机器语言，而是先翻译成中间代码，再由解释器对中间代码进行解释运行。\n",
    "特点：每执行一次都要编译一次，效率很低。但有很好的跨平台性。 \n",
    "优点：解释型语言的跨平台性好。 \n",
    "缺点：解释型语言每执行一次都要编译一次，效率很低。"
   ]
  },
  {
   "cell_type": "markdown",
   "metadata": {},
   "source": [
    "（2）面向对象的：含义，特点，优缺点。 \n",
    "含义：是一类以对象作为基本程序结构单位的程序设计语言。 \n",
    "特点：三大特征：封装，继承，多态。 \n",
    "优点：可重用性好，程序可重复利用。可维护性好，便于开发人员维护。通用性好，表达方法一致，便于理解。 \n",
    "缺点：代码量大，冗余代码过多。对象之间相互依赖，耦合性高。运行速度慢。"
   ]
  },
  {
   "cell_type": "markdown",
   "metadata": {},
   "source": [
    "（3）动态语义：含义，特点，优缺点。\n",
    "含义：程序运行时可以改变其结构的语言。 \n",
    "特点：类型的检查是在运行时做的。\n",
    "优点：方便阅读，不需要写非常多的类型相关的代码。\n",
    "缺点：不方便调试。"
   ]
  },
  {
   "cell_type": "markdown",
   "metadata": {},
   "source": [
    "# 问题二"
   ]
  },
  {
   "cell_type": "markdown",
   "metadata": {},
   "source": [
    "（1）import和from...import...导入方式的使用方法和区别\n",
    "import是导入整个模块，使用时需要加模块名。\n",
    "例：import sys\n",
    "sys.path\n",
    "from...import...是从某个模块中导入某个类，使用时不用加模块名。\n",
    "例：from datetime import datetime\n",
    "dt=datetime(2019,3,27,12,20)"
   ]
  },
  {
   "cell_type": "markdown",
   "metadata": {},
   "source": [
    "（2）如何导入自建模块？python2和python3有什么区别？\n",
    "首先自己定义一个模块，例如，定义一个hello.py模块。导入时可以这样写import hello   \n",
    "h=hello.Hello()\n",
    "区别：python2默认相对路径导入，python3默认绝对路径导入。\n",
    "绝对路径导入格式为import a.b或者from a import b,相对路径导入格式为from . import b或者from ..a import b。\n",
    "hello.py模块如下。"
   ]
  },
  {
   "cell_type": "code",
   "execution_count": 1,
   "metadata": {},
   "outputs": [],
   "source": [
    "def Hello():\n",
    "    print('hello world')"
   ]
  },
  {
   "cell_type": "markdown",
   "metadata": {},
   "source": [
    "(3)如何导入上一级目录或者根目录的模块？\n",
    "根目录的模块可以用import直接导入。设mod1.py是mod2.py 的上一级模块，导入方法如下：import sys    sys.path.append(\"..\")   import mod1   import mod2.mod2"
   ]
  },
  {
   "cell_type": "markdown",
   "metadata": {},
   "source": [
    "# 问题三"
   ]
  },
  {
   "cell_type": "markdown",
   "metadata": {},
   "source": [
    "（1）python2和python3在运算符和表达式上有哪些不同？\n",
    "输出print。在python2中输出格式为：print 'python',直接输出，不用加括号。在python3中输出格式为：print('python'),需要加括号。   \n",
    "输入input。python3中的input得到的是str类型，python2的input得到的为int型，python2的raw_input得到的为str型。   \n",
    "除法区别。python3中/表示真除，python2带上小数点/表示真除。例，python2中3/2=1，3/2.0=1.5。python3中3/2=1.5。\n",
    "不等运算符。python2中不等于有两种写法!=和<>。python3中去掉了<>，只有!=一种写法。   \n",
    "repr表达式不同。python2中反引号\"相当于repr函数的作用。python3中去掉了反引号这种用法。"
   ]
  },
  {
   "cell_type": "markdown",
   "metadata": {},
   "source": [
    "# 问题四"
   ]
  },
  {
   "cell_type": "markdown",
   "metadata": {},
   "source": [
    "（1）类比其他语言，解释列表和字典等数据结构的用途的具体使用方法。\n",
    "python内置的一种数据类型是列表：list。list是一种有序的集合，可以随时添加和删除其中的元素。而元组tuple和list非常类似，只是元组一旦初始化就不能更改。  C语言的数组在创建时，必须定义数组的类型和大小。例int arr[10];python的列表和C语言的数组都可以通过下标来访问。python中的列表可以随意增添或删除元素或者插入元素。C语言的数组不可以。python的列表中可以存放不同类型的数据，而C语言只能存放同一类型的数据。python中的list可以切片访问。      字典，python内置了字典使用键-值存储。具有极快的查找速度，而C语言需要自己实现Map。具体用法如下："
   ]
  },
  {
   "cell_type": "code",
   "execution_count": 8,
   "metadata": {},
   "outputs": [
    {
     "name": "stdout",
     "output_type": "stream",
     "text": [
      "['HELLO', 'WORLD', 200, 199]\n",
      "['HELLO', 'WORLD', 200, 199, 'ouc']\n",
      "['HELLO', 'WORLD', 199, 'ouc']\n"
     ]
    }
   ],
   "source": [
    "list1=['HELLO','WORLD',200,199]\n",
    "print(list1)\n",
    "list1.append('ouc')\n",
    "print(list1)\n",
    "list1.pop(2)\n",
    "print(list1)"
   ]
  },
  {
   "cell_type": "code",
   "execution_count": 17,
   "metadata": {},
   "outputs": [
    {
     "ename": "SyntaxError",
     "evalue": "invalid syntax (<ipython-input-17-251366b580f8>, line 2)",
     "output_type": "error",
     "traceback": [
      "\u001b[1;36m  File \u001b[1;32m\"<ipython-input-17-251366b580f8>\"\u001b[1;36m, line \u001b[1;32m2\u001b[0m\n\u001b[1;33m    int main (void)\u001b[0m\n\u001b[1;37m           ^\u001b[0m\n\u001b[1;31mSyntaxError\u001b[0m\u001b[1;31m:\u001b[0m invalid syntax\n"
     ]
    }
   ],
   "source": [
    "#include<stdio.h>\n",
    "int main (void)\n",
    "{\n",
    "    int a[10];\n",
    "    int i,j;\n",
    "    for(i=0;i<10;i++)\n",
    "    {a[i]=i+10;}\n",
    "    for(j=0;j<10;j++)\n",
    "    {printf(\"a[%d]=%d\\n\",j,a[j])}\n",
    "    return 0;\n",
    "}"
   ]
  },
  {
   "cell_type": "code",
   "execution_count": 18,
   "metadata": {},
   "outputs": [
    {
     "data": {
      "text/plain": [
       "75"
      ]
     },
     "execution_count": 18,
     "metadata": {},
     "output_type": "execute_result"
    }
   ],
   "source": [
    "d={'Michael':95,'Bob':75,'Tracy':85}\n",
    "d['Bob']"
   ]
  },
  {
   "cell_type": "markdown",
   "metadata": {},
   "source": [
    "(2)排序算法\n",
    "以下是python的几种排序算法：插入排序，希尔排序，冒泡排序，快速排序，选择排序。"
   ]
  },
  {
   "cell_type": "code",
   "execution_count": 19,
   "metadata": {},
   "outputs": [
    {
     "name": "stdout",
     "output_type": "stream",
     "text": [
      "[2, 3, 4, 5, 6, 6, 7, 8, 9]\n"
     ]
    }
   ],
   "source": [
    "def insert_sort(list1):\n",
    "    for i in range(len(list1)):\n",
    "        for j in range(i):\n",
    "            if list1[i]<list1[j]:\n",
    "                list1.insert(j,list1.pop(i))\n",
    "                break\n",
    "    return list1\n",
    "list1=insert_sort([4,5,6,7,3,2,6,9,8])\n",
    "print(list1)"
   ]
  },
  {
   "cell_type": "code",
   "execution_count": 21,
   "metadata": {},
   "outputs": [
    {
     "name": "stdout",
     "output_type": "stream",
     "text": [
      "[2, 3, 4, 5, 6, 6, 7, 8, 9]\n"
     ]
    }
   ],
   "source": [
    "def shell_sort(slist):\n",
    "    gap=len(slist)\n",
    "    while gap>1:\n",
    "        gap=gap//2\n",
    "        for i in range(gap,len(slist)):\n",
    "            for j in range(i%gap,i,gap):\n",
    "                if slist[i]<slist[j]:\n",
    "                    slist[i],slist[j]=slist[j],slist[i]\n",
    "    return slist\n",
    "slist=shell_sort([4,5,6,7,3,2,6,8,9])\n",
    "print(slist)"
   ]
  },
  {
   "cell_type": "code",
   "execution_count": 22,
   "metadata": {},
   "outputs": [
    {
     "name": "stdout",
     "output_type": "stream",
     "text": [
      "[2, 3, 4, 5, 6, 6, 7, 8, 9]\n"
     ]
    }
   ],
   "source": [
    "def bubble_sort(blist):\n",
    "    count=len(blist)\n",
    "    for i in range(0,count):\n",
    "        for j in range(i+1,count):\n",
    "            if blist[i]>blist[j]:\n",
    "                blist[i],blist[j]=blist[j],blist[i]\n",
    "    return blist\n",
    "blist=bubble_sort([4,5,6,7,3,2,6,9,8])\n",
    "print(blist)"
   ]
  },
  {
   "cell_type": "code",
   "execution_count": 23,
   "metadata": {},
   "outputs": [
    {
     "name": "stdout",
     "output_type": "stream",
     "text": [
      "[2, 3, 4, 5, 6, 6, 7, 8, 9]\n"
     ]
    }
   ],
   "source": [
    "def quick_sort(qlist):\n",
    "    if qlist==[]:\n",
    "        return []\n",
    "    else:\n",
    "        qfirst=qlist[0]\n",
    "        qless=quick_sort([i for i in qlist[1:] if i<qfirst])\n",
    "        qmore=quick_sort([m for m in qlist[1:] if m>=qfirst])\n",
    "        return qless+[qfirst]+qmore\n",
    "qlist=quick_sort([4,5,6,7,3,2,6,9,8])\n",
    "print(qlist)"
   ]
  },
  {
   "cell_type": "code",
   "execution_count": 25,
   "metadata": {},
   "outputs": [
    {
     "name": "stdout",
     "output_type": "stream",
     "text": [
      "[2, 3, 4, 5, 6, 6, 7, 8, 9]\n"
     ]
    }
   ],
   "source": [
    "def select_sort(slist):\n",
    "    for i in range(len(slist)):\n",
    "        x=i\n",
    "        for j in range(i,len(slist)):\n",
    "            if slist[j]<slist[x]:\n",
    "                x=j\n",
    "        slist[i],slist[x]=slist[x],slist[i]\n",
    "    return slist\n",
    "slist=select_sort([4,5,6,7,3,2,6,9,8])\n",
    "print(slist)"
   ]
  },
  {
   "cell_type": "markdown",
   "metadata": {},
   "source": [
    "# 问题五"
   ]
  },
  {
   "cell_type": "markdown",
   "metadata": {},
   "source": [
    "（1）字符串常用函数。\n",
    "lower()字符串小写，upper（）字符串大写，strip()删除字符串开头和结尾的空格，find('str')在字符串中搜索给定的字符串，返回它的第一个索引，否则返回-1，replace('old','new')字符串中出现的所有old字符串都被new替换，count('x')查找某个字符在字符串里出现的次数，capitalize()首字母大写，index('x')找到这个字符返回下标，多个时返回第一个，不存在字符报错，format()字符串报错。"
   ]
  },
  {
   "cell_type": "code",
   "execution_count": 33,
   "metadata": {},
   "outputs": [
    {
     "name": "stdout",
     "output_type": "stream",
     "text": [
      "python\n",
      "PYTHON\n",
      "python is fun\n",
      "14\n",
      "python loves,'me'\n",
      "1\n",
      "Python\n",
      "5\n"
     ]
    },
    {
     "data": {
      "text/plain": [
       "'c,b,a'"
      ]
     },
     "execution_count": 33,
     "metadata": {},
     "output_type": "execute_result"
    }
   ],
   "source": [
    "test1='PYTHON'\n",
    "print(test1.lower())\n",
    "test11='python'\n",
    "print(test11.upper())\n",
    "test2='\\n python is fun \\n'\n",
    "print(test2.strip())\n",
    "test3='python loves,\\'you\\''\n",
    "print(test3.find('you'))\n",
    "test4='python loves,\\'you\\''\n",
    "print(test4.replace('you','me'))\n",
    "print(test1.count('P'))\n",
    "print(test11.capitalize())\n",
    "print(test11.index('n'))\n",
    "'{2},{1},{0}'.format('a','b','c')"
   ]
  },
  {
   "cell_type": "markdown",
   "metadata": {},
   "source": [
    "(2)正则表达式。\n",
    "正则表达式使用单个字符串来描述、匹配一系列匹配某个语法规则的字符串。通常被用来检索、替换那些符合某个规则的文本。python提供re模块，包含所有正则表达式的功能。"
   ]
  },
  {
   "cell_type": "code",
   "execution_count": 34,
   "metadata": {},
   "outputs": [
    {
     "data": {
      "text/plain": [
       "<re.Match object; span=(0, 9), match='010-12345'>"
      ]
     },
     "execution_count": 34,
     "metadata": {},
     "output_type": "execute_result"
    }
   ],
   "source": [
    "import re\n",
    "re.match(r'^\\d{3}\\-\\d{3,8}$','010-12345')"
   ]
  },
  {
   "cell_type": "code",
   "execution_count": 35,
   "metadata": {},
   "outputs": [
    {
     "data": {
      "text/plain": [
       "['a', 'b', 'c']"
      ]
     },
     "execution_count": 35,
     "metadata": {},
     "output_type": "execute_result"
    }
   ],
   "source": [
    "import re\n",
    "re.split(r'\\s+','a b    c')"
   ]
  },
  {
   "cell_type": "code",
   "execution_count": 36,
   "metadata": {},
   "outputs": [
    {
     "name": "stdout",
     "output_type": "stream",
     "text": [
      "010-12345\n",
      "010\n",
      "12345\n"
     ]
    }
   ],
   "source": [
    "import re\n",
    "m=re.match(r'^(\\d{3})-(\\d{3,8})$','010-12345')\n",
    "print(m.group(0))\n",
    "print(m.group(1))\n",
    "print(m.group(2))"
   ]
  },
  {
   "cell_type": "markdown",
   "metadata": {},
   "source": [
    "(3)字符串、列表和元祖有什么不同的地方\n",
    "首先，格式不同。字符串表示：string='assddasd'。列表表示:list1=['Michael','Bob','Tracy']。元组表示：list2=('Michael','Bob','Tracy')。\n",
    "其次，字符串和元组是不可变类型，列表是可变类型。元组和列表类似，但元组存在的意义是确保数据不被修改。列表可以动态的增加删除更新。"
   ]
  },
  {
   "cell_type": "markdown",
   "metadata": {},
   "source": [
    "（4）字符串拼接\n",
    "字符串拼接有许多办法，例如用+符号拼接，用%符号拼接，用join()方法拼接，用format()方法拼接等。以下是具体方法"
   ]
  },
  {
   "cell_type": "code",
   "execution_count": 44,
   "metadata": {},
   "outputs": [
    {
     "name": "stdout",
     "output_type": "stream",
     "text": [
      "There are apples,bananas,pears on the table.\n",
      "There are apples,bananas,pears on the table.\n",
      "There are apples,bananas,pears on the table.\n",
      "There are apples,bananas,pears on the table.\n"
     ]
    }
   ],
   "source": [
    "fruit1='apples'\n",
    "fruit2='bananas'\n",
    "fruit3='pears'\n",
    "str1='There are '+fruit1+','+fruit2+','+fruit3+' on the table.'\n",
    "print(str1)\n",
    "str2='There are %s,%s,%s on the table.'%(fruit1,fruit2,fruit3)\n",
    "print(str2)\n",
    "temp=['There are ',fruit1,',',fruit2,',',fruit3,' on the table.']\n",
    "print(''.join(temp))\n",
    "str='There are {},{},{} on the table.'\n",
    "print(str.format(fruit1,fruit2,fruit3))"
   ]
  },
  {
   "cell_type": "code",
   "execution_count": null,
   "metadata": {},
   "outputs": [],
   "source": []
  }
 ],
 "metadata": {
  "kernelspec": {
   "display_name": "Python 3",
   "language": "python",
   "name": "python3"
  },
  "language_info": {
   "codemirror_mode": {
    "name": "ipython",
    "version": 3
   },
   "file_extension": ".py",
   "mimetype": "text/x-python",
   "name": "python",
   "nbconvert_exporter": "python",
   "pygments_lexer": "ipython3",
   "version": "3.7.2"
  }
 },
 "nbformat": 4,
 "nbformat_minor": 2
}
